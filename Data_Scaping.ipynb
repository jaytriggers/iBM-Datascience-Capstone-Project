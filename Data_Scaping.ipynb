{
 "cells": [
  {
   "cell_type": "code",
   "execution_count": 1,
   "id": "78b009b2-774b-4603-b083-26908fb3b46a",
   "metadata": {
    "tags": []
   },
   "outputs": [
    {
     "name": "stdout",
     "output_type": "stream",
     "text": [
      "Requirement already satisfied: beautifulsoup4 in /home/jupyterlab/conda/envs/python/lib/python3.7/site-packages (4.11.1)\n",
      "Requirement already satisfied: soupsieve>1.2 in /home/jupyterlab/conda/envs/python/lib/python3.7/site-packages (from beautifulsoup4) (2.3.2.post1)\n",
      "Requirement already satisfied: requests in /home/jupyterlab/conda/envs/python/lib/python3.7/site-packages (2.29.0)\n",
      "Requirement already satisfied: charset-normalizer<4,>=2 in /home/jupyterlab/conda/envs/python/lib/python3.7/site-packages (from requests) (3.1.0)\n",
      "Requirement already satisfied: idna<4,>=2.5 in /home/jupyterlab/conda/envs/python/lib/python3.7/site-packages (from requests) (3.4)\n",
      "Requirement already satisfied: urllib3<1.27,>=1.21.1 in /home/jupyterlab/conda/envs/python/lib/python3.7/site-packages (from requests) (1.26.15)\n",
      "Requirement already satisfied: certifi>=2017.4.17 in /home/jupyterlab/conda/envs/python/lib/python3.7/site-packages (from requests) (2023.5.7)\n"
     ]
    }
   ],
   "source": [
    "!pip3 install beautifulsoup4\n",
    "!pip3 install requests\n"
   ]
  },
  {
   "cell_type": "code",
   "execution_count": 2,
   "id": "75ba2e8d-d630-4d7c-a504-d45e9cbf3f4d",
   "metadata": {
    "tags": []
   },
   "outputs": [],
   "source": [
    "from bs4 import BeautifulSoup \n",
    "import requests \n",
    "import re\n",
    "import unicodedata\n",
    "import pandas as pd\n"
   ]
  },
  {
   "cell_type": "code",
   "execution_count": 3,
   "id": "26ae3500-e3e9-4006-8d48-eb40f3e72028",
   "metadata": {
    "tags": []
   },
   "outputs": [],
   "source": [
    "#Definifn some helper functin \n",
    "def date_time(table_cells):\n",
    "    \"\"\"\n",
    "    This function returns the data and time from the HTML  table cell\n",
    "    Input: the  element of a table data cell extracts extra row\n",
    "    \"\"\"\n",
    "    return [data_time.strip() for data_time in list(table_cells.strings)][0:2]\n",
    "\n",
    "def booster_version(table_cells):\n",
    "    \"\"\"\n",
    "    This function returns the booster version from the HTML  table cell \n",
    "    Input: the  element of a table data cell extracts extra row\n",
    "    \"\"\"\n",
    "    out=''.join([booster_version for i,booster_version in enumerate( table_cells.strings) if i%2==0][0:-1])\n",
    "    return out\n",
    "def landing_status(table_cells):\n",
    "    \"\"\"\n",
    "    This function returns the landing status from the HTML table cell \n",
    "    Input: the  element of a table data cell extracts extra row\n",
    "    \"\"\"\n",
    "    out=[i for i in table_cells.strings][0]\n",
    "    return out\n",
    "\n",
    "def get_mass(table_cells):\n",
    "    mass=unicodedata.normalize(\"NFKD\", table_cells.text).strip()\n",
    "    if mass:\n",
    "        mass.find(\"kg\")\n",
    "        new_mass=mass[0:mass.find(\"kg\")+2]\n",
    "    else:\n",
    "        new_mass=0\n",
    "    return new_mass\n",
    "\n",
    "def get_customer(table_cells):\n",
    "    if table_cells.a:\n",
    "        Customer = table_cells.a.string\n",
    "    else:\n",
    "        Customer = None\n",
    "    return Customer\n",
    "\n",
    "def extract_column_from_header(row):\n",
    "    \"\"\"\n",
    "    This function returns the landing status from the HTML table cell.\n",
    "    It extracts and cleans up extra HTML elements.\n",
    "    \"\"\"\n",
    "    # Remove <br>, <a>, and <sup> if present\n",
    "    if row.br:\n",
    "        row.br.extract()\n",
    "    if row.a:\n",
    "        row.a.extract()\n",
    "    if row.sup:\n",
    "        row.sup.extract()\n",
    "\n",
    "    # Join only the string parts of the contents (no need for extra get_text checks)\n",
    "    colunm_name = ' '.join([content.strip() for content in row.contents if isinstance(content, str)])\n",
    "\n",
    "    # Filter out any numeric-only or empty column names\n",
    "    if not colunm_name.strip().isdigit():\n",
    "        colunm_name = colunm_name.strip()\n",
    "        return colunm_name\n",
    "    return None\n",
    "\n"
   ]
  },
  {
   "cell_type": "code",
   "execution_count": 4,
   "id": "50084130-c8fa-427a-9b59-1ccfae464957",
   "metadata": {
    "tags": []
   },
   "outputs": [],
   "source": [
    "static_url = \"https://en.wikipedia.org/w/index.php?title=List_of_Falcon_9_and_Falcon_Heavy_launches&oldid=1027686922\""
   ]
  },
  {
   "cell_type": "code",
   "execution_count": 10,
   "id": "cf5f81e8-73a2-4e70-b89d-fd3c9e02b863",
   "metadata": {
    "tags": []
   },
   "outputs": [
    {
     "name": "stdout",
     "output_type": "stream",
     "text": [
      "['Flight No.', 'Date and time ( )', 'Launch site', 'Payload', 'Payload mass', 'Orbit', 'Customer', 'Launch outcome']\n"
     ]
    },
    {
     "data": {
      "text/plain": [
       "{'Flight No.': [],\n",
       " 'Launch site': [],\n",
       " 'Payload': [],\n",
       " 'Payload mass': [],\n",
       " 'Orbit': [],\n",
       " 'Customer': [],\n",
       " 'Launch outcome': [],\n",
       " 'Version Booster': [],\n",
       " 'Booster landing': [],\n",
       " 'Date': [],\n",
       " 'Time': []}"
      ]
     },
     "execution_count": 10,
     "metadata": {},
     "output_type": "execute_result"
    }
   ],
   "source": [
    "#Sending a get request and Extracting the Tables \n",
    "Response = requests.get(static_url)\n",
    "Response.headers['Content-type']\n",
    "Tables = Response.text\n",
    "\n",
    "#Creating the beautifulsoup object\n",
    "Soup = BeautifulSoup(Tables, 'html.parser')\n",
    "Soup.title\n",
    "\n",
    "#Putting the column names from a table in a list \n",
    "html_tables = Soup.find_all('table')\n",
    "row = html_tables[2].find('tr')\n",
    "header = row.find_all('th')\n",
    "# Extracting the cleaned-up column names\n",
    "column_names = [extract_column_from_header(cell) for cell in header if extract_column_from_header(cell)]\n",
    "\n",
    "# Print the extracted column names\n",
    "print(column_names)\n",
    "\n",
    "\n",
    "#Creating a dictionary from the columns extracted to be used as a dataframe\n",
    "launch_dict= dict.fromkeys(column_names)\n",
    "launch_dict\n",
    "\n",
    "#Deleting irrelevant columns\n",
    "del launch_dict['Date and time ( )']\n",
    "\n",
    "# Let's initial the launch_dict with each value to be an empty list\n",
    "launch_dict['Flight No.'] = []\n",
    "launch_dict['Launch site'] = []\n",
    "launch_dict['Payload'] = []\n",
    "launch_dict['Payload mass'] = []\n",
    "launch_dict['Orbit'] = []\n",
    "launch_dict['Customer'] = []\n",
    "launch_dict['Launch outcome'] = []\n",
    "# Added some new columns\n",
    "launch_dict['Version Booster']=[]\n",
    "launch_dict['Booster landing']=[]\n",
    "launch_dict['Date']=[]\n",
    "launch_dict['Time']=[]\n",
    "\n",
    "launch_dict"
   ]
  },
  {
   "cell_type": "code",
   "execution_count": 33,
   "id": "85166dc0-a396-485f-8d00-ea8d2977abfc",
   "metadata": {
    "tags": []
   },
   "outputs": [],
   "source": [
    "#Extracting the data from the table\n",
    "extracted_row = 0\n",
    "#Extract each table \n",
    "for table_number,table in enumerate(Soup.find_all('table',\"wikitable plainrowheaders collapsible\")):\n",
    "   # get table row \n",
    "    for rows in table.find_all(\"tr\"):\n",
    "        #check to see if first table heading is as number corresponding to launch a number \n",
    "        if rows.th:\n",
    "            if rows.th.string:\n",
    "                flight_number=rows.th.string.strip()\n",
    "                flag=flight_number.isdigit()\n",
    "        else:\n",
    "            flag=False\n",
    "        #get table element \n",
    "        row=rows.find_all('td')\n",
    "        #if it is number save cells in a dictonary \n",
    "        if flag:\n",
    "            extracted_row += 1\n",
    "            #Appending necessary data to a designated dictionary \n",
    "            launch_dict['Flight No.'].append(flight_number)            #print(flight_number)\n",
    "            datatimelist=date_time(row[0])\n",
    "            \n",
    "            date = datatimelist[0].strip(',')\n",
    "            launch_dict['Date'].append(date)\n",
    "            \n",
    "            time = datatimelist[1]\n",
    "            launch_dict['Time'].append(time)\n",
    "            \n",
    "            bv=booster_version(row[1])\n",
    "            if not(bv):\n",
    "                bv=row[1].a.string\n",
    "            launch_dict['Version Booster'].append(bv)\n",
    "            \n",
    "            \n",
    "            launch_site = row[2].a.string\n",
    "            launch_dict['Launch site'].append(launch_site)\n",
    "            \n",
    "            \n",
    "            payload = row[3].a.string\n",
    "            launch_dict['Payload'].append(payload)\n",
    "            \n",
    "            \n",
    "            payload_mass = get_mass(row[4])\n",
    "            launch_dict['Payload mass'].append(payload_mass)\n",
    "            \n",
    "            \n",
    "            orbit = row[5].a.string\n",
    "            launch_dict['Orbit'].append(orbit)\n",
    "            \n",
    "            customer = get_customer(row[6])\n",
    "            launch_dict['Customer'].append(customer)\n",
    "           \n",
    "            \n",
    "            launch_outcome = list(row[7].strings)[0]\n",
    "            launch_dict['Launch outcome'].append(launch_outcome)\n",
    "          \n",
    "            \n",
    "            booster_landing = landing_status(row[8])\n",
    "            launch_dict['Booster landing'].append(booster_landing)"
   ]
  },
  {
   "cell_type": "code",
   "execution_count": 37,
   "id": "c5e71510-09ba-4732-8178-253c27266de7",
   "metadata": {
    "tags": []
   },
   "outputs": [],
   "source": [
    "#Creating a dataframe from the dictionary\n",
    "spacex_df= pd.DataFrame({ key:pd.Series(value) for key, value in launch_dict.items() })\n"
   ]
  },
  {
   "cell_type": "code",
   "execution_count": 40,
   "id": "76232bed-2fc9-465b-8fd7-8ad44164796b",
   "metadata": {
    "tags": []
   },
   "outputs": [
    {
     "data": {
      "text/html": [
       "<div>\n",
       "<style scoped>\n",
       "    .dataframe tbody tr th:only-of-type {\n",
       "        vertical-align: middle;\n",
       "    }\n",
       "\n",
       "    .dataframe tbody tr th {\n",
       "        vertical-align: top;\n",
       "    }\n",
       "\n",
       "    .dataframe thead th {\n",
       "        text-align: right;\n",
       "    }\n",
       "</style>\n",
       "<table border=\"1\" class=\"dataframe\">\n",
       "  <thead>\n",
       "    <tr style=\"text-align: right;\">\n",
       "      <th></th>\n",
       "      <th>Flight No.</th>\n",
       "      <th>Launch site</th>\n",
       "      <th>Payload</th>\n",
       "      <th>Payload mass</th>\n",
       "      <th>Orbit</th>\n",
       "      <th>Customer</th>\n",
       "      <th>Launch outcome</th>\n",
       "      <th>Version Booster</th>\n",
       "      <th>Booster landing</th>\n",
       "      <th>Date</th>\n",
       "      <th>Time</th>\n",
       "    </tr>\n",
       "  </thead>\n",
       "  <tbody>\n",
       "    <tr>\n",
       "      <th>count</th>\n",
       "      <td>1105</td>\n",
       "      <td>681</td>\n",
       "      <td>575</td>\n",
       "      <td>575</td>\n",
       "      <td>469</td>\n",
       "      <td>461</td>\n",
       "      <td>242</td>\n",
       "      <td>893</td>\n",
       "      <td>121</td>\n",
       "      <td>1105</td>\n",
       "      <td>999</td>\n",
       "    </tr>\n",
       "    <tr>\n",
       "      <th>unique</th>\n",
       "      <td>121</td>\n",
       "      <td>5</td>\n",
       "      <td>82</td>\n",
       "      <td>84</td>\n",
       "      <td>8</td>\n",
       "      <td>37</td>\n",
       "      <td>3</td>\n",
       "      <td>55</td>\n",
       "      <td>8</td>\n",
       "      <td>121</td>\n",
       "      <td>116</td>\n",
       "    </tr>\n",
       "    <tr>\n",
       "      <th>top</th>\n",
       "      <td>1</td>\n",
       "      <td>CCAFS</td>\n",
       "      <td>Starlink</td>\n",
       "      <td>15,600 kg</td>\n",
       "      <td>LEO</td>\n",
       "      <td>NASA</td>\n",
       "      <td>Success\\n</td>\n",
       "      <td>F9 B5</td>\n",
       "      <td>Success</td>\n",
       "      <td>4 June 2010</td>\n",
       "      <td>04:45</td>\n",
       "    </tr>\n",
       "    <tr>\n",
       "      <th>freq</th>\n",
       "      <td>10</td>\n",
       "      <td>240</td>\n",
       "      <td>121</td>\n",
       "      <td>98</td>\n",
       "      <td>254</td>\n",
       "      <td>126</td>\n",
       "      <td>176</td>\n",
       "      <td>147</td>\n",
       "      <td>80</td>\n",
       "      <td>10</td>\n",
       "      <td>27</td>\n",
       "    </tr>\n",
       "  </tbody>\n",
       "</table>\n",
       "</div>"
      ],
      "text/plain": [
       "       Flight No. Launch site   Payload Payload mass Orbit Customer  \\\n",
       "count        1105         681       575          575   469      461   \n",
       "unique        121           5        82           84     8       37   \n",
       "top             1       CCAFS  Starlink    15,600 kg   LEO     NASA   \n",
       "freq           10         240       121           98   254      126   \n",
       "\n",
       "       Launch outcome Version Booster Booster landing         Date   Time  \n",
       "count             242             893             121         1105    999  \n",
       "unique              3              55               8          121    116  \n",
       "top         Success\\n           F9 B5         Success  4 June 2010  04:45  \n",
       "freq              176             147              80           10     27  "
      ]
     },
     "execution_count": 40,
     "metadata": {},
     "output_type": "execute_result"
    }
   ],
   "source": [
    "spacex_df.describe()"
   ]
  },
  {
   "cell_type": "code",
   "execution_count": null,
   "id": "ec6af921-8a81-46cb-8f6f-46cbc9040e92",
   "metadata": {},
   "outputs": [],
   "source": []
  }
 ],
 "metadata": {
  "kernelspec": {
   "display_name": "Python",
   "language": "python",
   "name": "conda-env-python-py"
  },
  "language_info": {
   "codemirror_mode": {
    "name": "ipython",
    "version": 3
   },
   "file_extension": ".py",
   "mimetype": "text/x-python",
   "name": "python",
   "nbconvert_exporter": "python",
   "pygments_lexer": "ipython3",
   "version": "3.7.12"
  }
 },
 "nbformat": 4,
 "nbformat_minor": 5
}
